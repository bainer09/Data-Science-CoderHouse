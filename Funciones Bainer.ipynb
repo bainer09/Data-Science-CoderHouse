{
 "cells": [
  {
   "cell_type": "code",
   "execution_count": 22,
   "id": "222749c2",
   "metadata": {
    "scrolled": true
   },
   "outputs": [],
   "source": [
    "\"\"\"Ejercicio 1: Cálculo del factorial de un número\"\"\"\n",
    "def factorial(n):\n",
    "    f = 1\n",
    "    if n < 0:\n",
    "        print(\"Imposible calcular\")\n",
    "    else:\n",
    "        while n > 1:\n",
    "            f *= n\n",
    "            n -= 1\n",
    "        print(f)\n",
    "    return"
   ]
  },
  {
   "cell_type": "code",
   "execution_count": 23,
   "id": "5267b72e",
   "metadata": {},
   "outputs": [
    {
     "name": "stdout",
     "output_type": "stream",
     "text": [
      "Imposible calcular\n"
     ]
    }
   ],
   "source": [
    "\"\"\"Prueba 1\"\"\"\n",
    "factorial(-4)"
   ]
  },
  {
   "cell_type": "code",
   "execution_count": 24,
   "id": "75b19bf7",
   "metadata": {},
   "outputs": [
    {
     "name": "stdout",
     "output_type": "stream",
     "text": [
      "362880\n"
     ]
    }
   ],
   "source": [
    "\"\"\"Prueba 2\"\"\"\n",
    "factorial(9)"
   ]
  },
  {
   "cell_type": "code",
   "execution_count": 39,
   "id": "167075fc",
   "metadata": {},
   "outputs": [],
   "source": [
    "\"\"\"Ejercicio 2: Sumatoria de una serie entre dos números\"\"\"\n",
    "def sumaserie(a,b):\n",
    "    if b < a:\n",
    "        print(\"El segundo número debe ser mayor al primero\")\n",
    "    else:\n",
    "        s = 0\n",
    "        for x in range(a, b+1):\n",
    "            s += x\n",
    "        print(s)\n",
    "    return\n",
    "    "
   ]
  },
  {
   "cell_type": "code",
   "execution_count": 40,
   "id": "485bdd22",
   "metadata": {},
   "outputs": [
    {
     "name": "stdout",
     "output_type": "stream",
     "text": [
      "12\n"
     ]
    }
   ],
   "source": [
    "\"\"\"Prueba 1\"\"\"\n",
    "sumaserie(3,5)"
   ]
  },
  {
   "cell_type": "code",
   "execution_count": 41,
   "id": "2cbb84bc",
   "metadata": {},
   "outputs": [
    {
     "name": "stdout",
     "output_type": "stream",
     "text": [
      "El segundo número debe ser mayor al primero\n"
     ]
    }
   ],
   "source": [
    "\"\"\"Prueba 2\"\"\"\n",
    "sumaserie(10,3)"
   ]
  },
  {
   "cell_type": "code",
   "execution_count": null,
   "id": "6d309fa5",
   "metadata": {},
   "outputs": [],
   "source": []
  }
 ],
 "metadata": {
  "kernelspec": {
   "display_name": "Python 3 (ipykernel)",
   "language": "python",
   "name": "python3"
  },
  "language_info": {
   "codemirror_mode": {
    "name": "ipython",
    "version": 3
   },
   "file_extension": ".py",
   "mimetype": "text/x-python",
   "name": "python",
   "nbconvert_exporter": "python",
   "pygments_lexer": "ipython3",
   "version": "3.9.5"
  }
 },
 "nbformat": 4,
 "nbformat_minor": 5
}
