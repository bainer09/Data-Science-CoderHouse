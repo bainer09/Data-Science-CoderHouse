{
 "cells": [
  {
   "cell_type": "code",
   "execution_count": 62,
   "id": "1e4efddb",
   "metadata": {
    "scrolled": false
   },
   "outputs": [
    {
     "name": "stdout",
     "output_type": "stream",
     "text": [
      "[11 90 90 13 93 94 90 63 61 61 36 16 88 73 23 21  8 66 79 31 87 54 97 28\n",
      " 69 51 37 85 58 78 67 51 16 23 99 90 50 22 63 70 52  7 16 38 92 96 69 19\n",
      " 73 27 81 25 19 40 30 59 39 47  2 49 51 63 63 94 44 88 10 26 23 24 59 80\n",
      " 41 84 41 70  4 57 64 20 30 38 46  9  5 51 41 55 47 86 12 47 63 14 20 59\n",
      " 41 61  3 82]\n",
      "La mediana es: 51.0\n"
     ]
    }
   ],
   "source": [
    "\"\"\"Generar un array aleatorio de 100 elementos. Calcular la mediana correspondiente.\"\"\"\n",
    "import numpy as np\n",
    "np_array = np.random.randint(100, size=100)\n",
    "print(np_array)\n",
    "print(\"La mediana es:\", + np.median(np_array))"
   ]
  },
  {
   "cell_type": "code",
   "execution_count": 78,
   "id": "4534cc6a",
   "metadata": {
    "scrolled": true
   },
   "outputs": [
    {
     "name": "stdout",
     "output_type": "stream",
     "text": [
      "4998\n"
     ]
    }
   ],
   "source": [
    "\"\"\"Sumatoria del array\"\"\"\n",
    "if np_array[0] > np_array[1]:\n",
    "    print(\"el segundo numero debe ser mayor al primero\")\n",
    "else:\n",
    "    print (np_array.sum())"
   ]
  },
  {
   "cell_type": "code",
   "execution_count": 72,
   "id": "efa5a49d",
   "metadata": {},
   "outputs": [],
   "source": [
    "\"\"\"Factorial con Numpy\"\"\"\n",
    "def factorial_np (a):\n",
    "    if a < 0:\n",
    "        print(\"Valor imposible de calcular\")\n",
    "    else:\n",
    "        print(np.math.factorial(a))\n",
    "    return"
   ]
  },
  {
   "cell_type": "code",
   "execution_count": 73,
   "id": "71334908",
   "metadata": {},
   "outputs": [
    {
     "name": "stdout",
     "output_type": "stream",
     "text": [
      "120\n"
     ]
    }
   ],
   "source": [
    "factorial_np(5)"
   ]
  },
  {
   "cell_type": "code",
   "execution_count": 74,
   "id": "ec9a2d79",
   "metadata": {},
   "outputs": [
    {
     "name": "stdout",
     "output_type": "stream",
     "text": [
      "Valor imposible de calcular\n"
     ]
    }
   ],
   "source": [
    "factorial_np(-1)"
   ]
  }
 ],
 "metadata": {
  "kernelspec": {
   "display_name": "Python 3 (ipykernel)",
   "language": "python",
   "name": "python3"
  },
  "language_info": {
   "codemirror_mode": {
    "name": "ipython",
    "version": 3
   },
   "file_extension": ".py",
   "mimetype": "text/x-python",
   "name": "python",
   "nbconvert_exporter": "python",
   "pygments_lexer": "ipython3",
   "version": "3.9.5"
  }
 },
 "nbformat": 4,
 "nbformat_minor": 5
}
