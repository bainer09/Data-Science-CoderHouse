#!/usr/bin/env python
# coding: utf-8

# In[27]:


import numpy as np
import pandas as pd
import pandas_profiling
pd.options.display.max_columns = None
get_ipython().run_line_magic('matplotlib', 'inline')
import matplotlib.pyplot as plt
import seaborn as sns


# In[28]:


df_movies = pd.read_csv(r'C:\Users\Rodrigo\Desktop\Proyecto Final\movie_dataset.csv', sep=',')
df_movies.set_index('index', inplace = True)


# In[29]:


df_movies.head()


# In[30]:


df_movies.shape


# In[31]:


df_movies.dtypes


# In[32]:


df_movies.count()


# In[33]:


profile = pandas_profiling.ProfileReport(df_movies)
profile


# In[34]:


plt.rcParams['figure.figsize'] = (15, 10)
sns.heatmap(df_movies.corr(), annot = True, cmap = 'Wistia')
plt.title('Heatmap for the Dataset', fontsize = 20)
plt.show()


# In[50]:


plt.figure(figsize=(20,20))
sns.scatterplot(x="vote_count", y="popularity", data=df_movies, hue='original_language')
plt.title('Relacion entre cantidad de votos, popularidad y lenguaje original', fontsize = 20, fontweight = 30)


# In[47]:


plt.figure(figsize=(20,20))
sns.scatterplot(x="budget", y="revenue", data=df_movies, hue='original_language')
plt.title('Relacion entre presupuesto, recaudacion y el lenguaje original', fontsize = 20, fontweight = 30)


# In[71]:


plt.figure(figsize=(15,20))
sns.boxplot(x='original_language', y='vote_average', data=df_movies, hue='status')
plt.title('Relacion entre idioma, popularidad y estado de la pelicula', fontsize = 20, fontweight = 30)
plt.show()


# In[ ]:





# In[ ]:




